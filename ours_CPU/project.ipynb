{
 "cells": [
  {
   "cell_type": "markdown",
   "id": "766f9463",
   "metadata": {},
   "source": [
    "# Parallel Computing Project"
   ]
  },
  {
   "cell_type": "markdown",
   "id": "e62bf74d",
   "metadata": {},
   "source": [
    "### Run the following cell to define the auxillary functions"
   ]
  },
  {
   "cell_type": "code",
   "execution_count": 30,
   "id": "cc8e556a-04bb-45de-81a6-0dfe2254358e",
   "metadata": {
    "tags": []
   },
   "outputs": [],
   "source": [
    "import subprocess\n",
    "import statistics\n",
    "import re\n",
    "from math import sqrt\n",
    "\n",
    "# def benchmark_classes(classes, num_iters, ref_means, ref_errs):\n",
    "#     speedup_means = []\n",
    "#     speedup_err = []\n",
    "\n",
    "#     for i, class_ in enumerate(classes):\n",
    "#         speedup_mean, speedup_err = benchmark_class(class_, num_iters, ref_means[i], ref_errs[i])\n",
    "#         speedup_means.append(speedup_mean)\n",
    "#         speedup_err.append(speedup_err)\n",
    "\n",
    "#     return speedup_means, speedup_err\n",
    "\n",
    "\n",
    "# def benchmark_class(class_, num_iters, ref_mean, ref_err):\n",
    "#     runtime_mean, runtime_err = execute_class(class_, num_iters)\n",
    "#     speedup_means, speedup_err = calc_speedup(runtime_mean, runtime_err, ref_mean, ref_err)\n",
    "\n",
    "#     return speedup_means, speedup_err, runtime_mean, runtime_err\n",
    "\n",
    "\n",
    "# def execute_classes(classes, num_iters):\n",
    "#     runtime_means = []\n",
    "#     runtime_errs = []\n",
    "\n",
    "#     for i, class_ in enumerate(classes):\n",
    "#         runtime_mean, runtime_err = execute_class(class_, num_iters)\n",
    "#         runtime_means.append(runtime_mean)\n",
    "#         runtime_errs.append(runtime_err)\n",
    "\n",
    "#     return runtime_means, runtime_errs\n",
    "\n",
    "\n",
    "def execute_class(class_, num_iters):\n",
    "    cmd = f'./bin/ft.{class_}'\n",
    "\n",
    "    runtimes = []\n",
    "\n",
    "    print(f'Class: {class_}, Iterations: {num_iters}')\n",
    "\n",
    "    for i in range(num_iters):\n",
    "        res = subprocess.check_output(cmd.split(' ')).decode('utf-8')\n",
    "\n",
    "        match = re.search(r'Verification\\s+=\\s+(\\w+)', res)\n",
    "        assert match, 'No match found!'\n",
    "        assert match.group(1) == 'SUCCESSFUL', f'Verification = {match.group(1)}'\n",
    "\n",
    "        match = re.search(r' Time in seconds\\s+=\\s+(\\d+\\.\\d+)', res)\n",
    "        assert match, 'No match found!'\n",
    "        runtime = float(match.group(1))\n",
    "        runtimes.append(runtime)\n",
    "\n",
    "        runtime_mean, runtime_err = calc_stats(runtimes)\n",
    "        print(f'  [{(i+1):03d}] {runtime:>8.6f} [sec] | Average Runtime: {runtime_mean:>8.6f} ± {runtime_err:.6f} [sec]')\n",
    "\n",
    "    print()\n",
    "\n",
    "    return runtime_mean, runtime_err\n",
    "\n",
    "\n",
    "def calc_speedup(runtime_mean, runtime_err, ref_mean, ref_err):\n",
    "    speedup_mean = ref_mean / runtime_mean\n",
    "    speedup_err = sqrt((runtime_err/runtime_mean)**2 + (ref_err/ref_mean)**2) * abs(speedup_mean)\n",
    "\n",
    "    print(f'Runtime: {runtime_mean:.6f} ± {runtime_err:.6f} [sec]')\n",
    "    print(f'Speedup: {speedup_mean:>8.2f} ± {speedup_err:>8.2f}')\n",
    "\n",
    "    return speedup_mean, speedup_err\n",
    "\n",
    "\n",
    "def calc_stats(runtimes):\n",
    "    if len(runtimes) == 0:\n",
    "        raise ValueError(\"runtimes array is empty\")\n",
    "    elif len(runtimes) == 1:\n",
    "        runtime_mean = runtimes[0]\n",
    "        runtime_err = 0.0\n",
    "    else:\n",
    "        runtime_mean = statistics.mean(runtimes)\n",
    "        runtime_stdev = statistics.stdev(runtimes)\n",
    "\n",
    "        # Filter out outliers\n",
    "        if len(runtimes) > 2:\n",
    "            runtimes_filtered = [runtime for runtime in runtimes if abs(runtime - runtime_mean) < runtime_stdev]\n",
    "            if len(runtimes_filtered) < len(runtimes):\n",
    "                runtime_mean = statistics.mean(runtimes_filtered)\n",
    "                runtime_stdev = statistics.stdev(runtimes_filtered)\n",
    "\n",
    "        runtime_err = runtime_stdev\n",
    "\n",
    "    return runtime_mean, runtime_err"
   ]
  },
  {
   "cell_type": "markdown",
   "id": "414c18e0",
   "metadata": {},
   "source": [
    "### Build CPU implementation for all problem sizes"
   ]
  },
  {
   "cell_type": "code",
   "execution_count": null,
   "id": "0f151111-36fa-4943-a2fe-0444c03ad72e",
   "metadata": {
    "tags": []
   },
   "outputs": [],
   "source": [
    "!make cleanall\n",
    "!make FT CLASS=S\n",
    "!make FT CLASS=W\n",
    "!make FT CLASS=A\n",
    "!make FT CLASS=B\n",
    "!make FT CLASS=C\n",
    "!make FT CLASS=D"
   ]
  },
  {
   "cell_type": "code",
   "execution_count": 33,
   "id": "ec5fa0ea",
   "metadata": {},
   "outputs": [
    {
     "name": "stdout",
     "output_type": "stream",
     "text": [
      "env: OMP_NUM_THREADS=1\n",
      "Class: S, Iterations: 2\n"
     ]
    },
    {
     "name": "stdout",
     "output_type": "stream",
     "text": [
      "  [001] 0.029768 [sec] | Average Runtime: 0.029768 ± 0.000000 [sec]\n",
      "  [002] 0.029777 [sec] | Average Runtime: 0.029773 ± 0.000006 [sec]\n",
      "\n",
      "\n",
      "env: OMP_NUM_THREADS=2\n",
      "Class: S, Iterations: 2\n",
      "  [001] 0.014991 [sec] | Average Runtime: 0.014991 ± 0.000000 [sec]\n",
      "  [002] 0.017820 [sec] | Average Runtime: 0.016405 ± 0.002000 [sec]\n",
      "\n",
      "Runtime: 0.016405 ± 0.002000 [sec]\n",
      "Speedup:     1.81 ±     0.22\n",
      "\n",
      "env: OMP_NUM_THREADS=4\n",
      "Class: S, Iterations: 2\n",
      "  [001] 0.007818 [sec] | Average Runtime: 0.007818 ± 0.000000 [sec]\n",
      "  [002] 0.008120 [sec] | Average Runtime: 0.007969 ± 0.000214 [sec]\n",
      "\n",
      "Runtime: 0.007969 ± 0.000214 [sec]\n",
      "Speedup:     3.74 ±     0.10\n",
      "\n",
      "env: OMP_NUM_THREADS=8\n",
      "Class: S, Iterations: 2\n",
      "  [001] 0.004872 [sec] | Average Runtime: 0.004872 ± 0.000000 [sec]\n",
      "  [002] 0.005095 [sec] | Average Runtime: 0.004984 ± 0.000158 [sec]\n",
      "\n",
      "Runtime: 0.004984 ± 0.000158 [sec]\n",
      "Speedup:     5.97 ±     0.19\n",
      "\n",
      "env: OMP_NUM_THREADS=16\n",
      "Class: S, Iterations: 2\n",
      "  [001] 0.003060 [sec] | Average Runtime: 0.003060 ± 0.000000 [sec]\n",
      "  [002] 0.003916 [sec] | Average Runtime: 0.003488 ± 0.000605 [sec]\n",
      "\n",
      "Runtime: 0.003488 ± 0.000605 [sec]\n",
      "Speedup:     8.54 ±     1.48\n",
      "\n",
      "env: OMP_NUM_THREADS=32\n",
      "Class: S, Iterations: 2\n",
      "  [001] 0.001773 [sec] | Average Runtime: 0.001773 ± 0.000000 [sec]\n",
      "  [002] 0.001773 [sec] | Average Runtime: 0.001773 ± 0.000000 [sec]\n",
      "\n",
      "Runtime: 0.001773 ± 0.000000 [sec]\n",
      "Speedup:    16.79 ±     0.00\n",
      "\n",
      "env: OMP_NUM_THREADS=56\n",
      "Class: S, Iterations: 2\n",
      "  [001] 0.001808 [sec] | Average Runtime: 0.001808 ± 0.000000 [sec]\n",
      "  [002] 0.001778 [sec] | Average Runtime: 0.001793 ± 0.000021 [sec]\n",
      "\n",
      "Runtime: 0.001793 ± 0.000021 [sec]\n",
      "Speedup:    16.60 ±     0.20\n",
      "\n",
      "env: OMP_NUM_THREADS=112\n",
      "Class: S, Iterations: 2\n",
      "  [001] 0.003496 [sec] | Average Runtime: 0.003496 ± 0.000000 [sec]\n",
      "  [002] 0.003490 [sec] | Average Runtime: 0.003493 ± 0.000004 [sec]\n",
      "\n",
      "Runtime: 0.003493 ± 0.000004 [sec]\n",
      "Speedup:     8.52 ±     0.01\n",
      "\n",
      "env: OMP_NUM_THREADS=224\n",
      "Class: S, Iterations: 2\n",
      "  [001] 0.012697 [sec] | Average Runtime: 0.012697 ± 0.000000 [sec]\n",
      "  [002] 0.010299 [sec] | Average Runtime: 0.011498 ± 0.001696 [sec]\n",
      "\n",
      "Runtime: 0.011498 ± 0.001696 [sec]\n",
      "Speedup:     2.59 ±     0.38\n",
      "\n",
      "\n"
     ]
    },
    {
     "ename": "TypeError",
     "evalue": "'int' object is not subscriptable",
     "output_type": "error",
     "traceback": [
      "\u001b[0;31m---------------------------------------------------------------------------\u001b[0m",
      "\u001b[0;31mTypeError\u001b[0m                                 Traceback (most recent call last)",
      "Cell \u001b[0;32mIn[33], line 32\u001b[0m\n\u001b[1;32m     30\u001b[0m \u001b[38;5;28mprint\u001b[39m()\n\u001b[1;32m     31\u001b[0m \u001b[38;5;28;01mfor\u001b[39;00m i \u001b[38;5;129;01min\u001b[39;00m \u001b[38;5;28mrange\u001b[39m(\u001b[38;5;28mlen\u001b[39m(NUM_THREADS)):\n\u001b[0;32m---> 32\u001b[0m   \u001b[38;5;28mprint\u001b[39m(\u001b[38;5;124mf\u001b[39m\u001b[38;5;124m'\u001b[39m\u001b[38;5;124m#Threads: \u001b[39m\u001b[38;5;132;01m{\u001b[39;00mnum_threads[i]\u001b[38;5;132;01m:\u001b[39;00m\u001b[38;5;124m>3\u001b[39m\u001b[38;5;132;01m}\u001b[39;00m\u001b[38;5;124m, Speedup: \u001b[39m\u001b[38;5;132;01m{\u001b[39;00mspeedup_means[i]\u001b[38;5;132;01m:\u001b[39;00m\u001b[38;5;124m>8.2f\u001b[39m\u001b[38;5;132;01m}\u001b[39;00m\u001b[38;5;124m ± \u001b[39m\u001b[38;5;132;01m{\u001b[39;00mspeedup_errs[i]\u001b[38;5;132;01m:\u001b[39;00m\u001b[38;5;124m>8.2f\u001b[39m\u001b[38;5;132;01m}\u001b[39;00m\u001b[38;5;124m'\u001b[39m)\n",
      "\u001b[0;31mTypeError\u001b[0m: 'int' object is not subscriptable"
     ]
    }
   ],
   "source": [
    "CLASS = 'S'\n",
    "REPETITIONS = 2\n",
    "NUM_THREADS=[1, 2, 4, 8, 16, 32, 56, 112, 224] # max 224\n",
    "\n",
    "runtime_means = []\n",
    "runtime_errs = []\n",
    "speedup_means = []\n",
    "speedup_errs = []\n",
    "\n",
    "ref_mean = None\n",
    "ref_err = None\n",
    "\n",
    "for num_threads in NUM_THREADS:\n",
    "  %env OMP_NUM_THREADS={num_threads}\n",
    "  runtime_mean, runtime_err = execute_class(CLASS, REPETITIONS)\n",
    "\n",
    "  if num_threads == 1:\n",
    "    ref_mean, ref_err = runtime_mean, runtime_err\n",
    "    speedup_mean, speedup_err = 1.0, 0.0\n",
    "  else:\n",
    "    speedup_mean, speedup_err = calc_speedup(runtime_mean, runtime_err, ref_mean, ref_err)\n",
    "\n",
    "  runtime_means.append(runtime_mean)\n",
    "  runtime_errs.append(runtime_err)\n",
    "  speedup_means.append(speedup_mean)\n",
    "  speedup_errs.append(speedup_err)\n",
    "\n",
    "  print()\n",
    "\n",
    "print()\n",
    "for i in range(len(NUM_THREADS)):\n",
    "  print(f'#Threads: {NUM_THREADS[i]:>3}, Runtime: {runtime_means[i]:>8.2f} ± {runtime_errs[i]:>8.2f} [sec], Speedup: {speedup_means[i]:>8.2f} ± {speedup_errs[i]:>8.2f}')\n"
   ]
  },
  {
   "cell_type": "code",
   "execution_count": null,
   "id": "66c10cec-3bbd-4e2c-a551-74e8da331750",
   "metadata": {},
   "outputs": [],
   "source": [
    "CLASSES = ['C', 'D']\n",
    "# CLASSES = ['S', 'W', 'A', 'B', 'C', 'D']\n",
    "num_iters=50\n",
    "\n",
    "runtime_means, runtime_errs = execute_classes(CLASSES, num_iters)\n",
    "\n",
    "print(f'runtime_means: {runtime_means}')\n",
    "print(f'runtime_errs : {runtime_errs}')"
   ]
  },
  {
   "cell_type": "code",
   "execution_count": 16,
   "id": "fcb2a256-2960-4134-a524-223a7283ee88",
   "metadata": {},
   "outputs": [
    {
     "name": "stdout",
     "output_type": "stream",
     "text": [
      "Class: C, Iterations: 100\n"
     ]
    },
    {
     "name": "stdout",
     "output_type": "stream",
     "text": [
      "  [001] Runtime: 12.340323 ± 0.000000 [sec] (12.340323)\n",
      "  [002] Runtime: 12.148646 ± 0.542143 [sec] (11.956970)\n",
      "  [003] Runtime: 12.074489 ± 0.461467 [sec] (11.926174)\n",
      "  [004] Runtime: 13.071470 ± 4.005685 [sec] (16.062414)\n"
     ]
    },
    {
     "ename": "KeyboardInterrupt",
     "evalue": "",
     "output_type": "error",
     "traceback": [
      "\u001b[0;31m---------------------------------------------------------------------------\u001b[0m",
      "\u001b[0;31mKeyboardInterrupt\u001b[0m                         Traceback (most recent call last)",
      "Cell \u001b[0;32mIn[16], line 4\u001b[0m\n\u001b[1;32m      1\u001b[0m class_ \u001b[38;5;241m=\u001b[39m \u001b[38;5;124m'\u001b[39m\u001b[38;5;124mC\u001b[39m\u001b[38;5;124m'\u001b[39m\n\u001b[1;32m      2\u001b[0m num_iters \u001b[38;5;241m=\u001b[39m \u001b[38;5;241m100\u001b[39m\n\u001b[0;32m----> 4\u001b[0m runtime_mean, runtime_err \u001b[38;5;241m=\u001b[39m \u001b[43mexecute_class\u001b[49m\u001b[43m(\u001b[49m\u001b[43mclass_\u001b[49m\u001b[43m,\u001b[49m\u001b[43m \u001b[49m\u001b[43mnum_iters\u001b[49m\u001b[43m)\u001b[49m\n\u001b[1;32m      6\u001b[0m \u001b[38;5;28mprint\u001b[39m(\u001b[38;5;124mf\u001b[39m\u001b[38;5;124m'\u001b[39m\u001b[38;5;124mruntime_mean: \u001b[39m\u001b[38;5;132;01m{\u001b[39;00mruntime_mean\u001b[38;5;132;01m:\u001b[39;00m\u001b[38;5;124m.6\u001b[39m\u001b[38;5;132;01m}\u001b[39;00m\u001b[38;5;124m'\u001b[39m)\n\u001b[1;32m      7\u001b[0m \u001b[38;5;28mprint\u001b[39m(\u001b[38;5;124mf\u001b[39m\u001b[38;5;124m'\u001b[39m\u001b[38;5;124mruntime_err : \u001b[39m\u001b[38;5;132;01m{\u001b[39;00mruntime_err\u001b[38;5;132;01m:\u001b[39;00m\u001b[38;5;124m.6\u001b[39m\u001b[38;5;132;01m}\u001b[39;00m\u001b[38;5;124m'\u001b[39m)\n",
      "Cell \u001b[0;32mIn[1], line 45\u001b[0m, in \u001b[0;36mexecute_class\u001b[0;34m(class_, num_iters)\u001b[0m\n\u001b[1;32m     42\u001b[0m \u001b[38;5;28mprint\u001b[39m(\u001b[38;5;124mf\u001b[39m\u001b[38;5;124m'\u001b[39m\u001b[38;5;124mClass: \u001b[39m\u001b[38;5;132;01m{\u001b[39;00mclass_\u001b[38;5;132;01m}\u001b[39;00m\u001b[38;5;124m, Iterations: \u001b[39m\u001b[38;5;132;01m{\u001b[39;00mnum_iters\u001b[38;5;132;01m}\u001b[39;00m\u001b[38;5;124m'\u001b[39m)\n\u001b[1;32m     44\u001b[0m \u001b[38;5;28;01mfor\u001b[39;00m i \u001b[38;5;129;01min\u001b[39;00m \u001b[38;5;28mrange\u001b[39m(num_iters):\n\u001b[0;32m---> 45\u001b[0m     res \u001b[38;5;241m=\u001b[39m \u001b[43msubprocess\u001b[49m\u001b[38;5;241;43m.\u001b[39;49m\u001b[43mcheck_output\u001b[49m\u001b[43m(\u001b[49m\u001b[43mcmd\u001b[49m\u001b[38;5;241;43m.\u001b[39;49m\u001b[43msplit\u001b[49m\u001b[43m(\u001b[49m\u001b[38;5;124;43m'\u001b[39;49m\u001b[38;5;124;43m \u001b[39;49m\u001b[38;5;124;43m'\u001b[39;49m\u001b[43m)\u001b[49m\u001b[43m)\u001b[49m\u001b[38;5;241m.\u001b[39mdecode(\u001b[38;5;124m'\u001b[39m\u001b[38;5;124mutf-8\u001b[39m\u001b[38;5;124m'\u001b[39m)\n\u001b[1;32m     47\u001b[0m     match \u001b[38;5;241m=\u001b[39m re\u001b[38;5;241m.\u001b[39msearch(\u001b[38;5;124mr\u001b[39m\u001b[38;5;124m'\u001b[39m\u001b[38;5;124mVerification\u001b[39m\u001b[38;5;124m\\\u001b[39m\u001b[38;5;124ms+=\u001b[39m\u001b[38;5;124m\\\u001b[39m\u001b[38;5;124ms+(\u001b[39m\u001b[38;5;124m\\\u001b[39m\u001b[38;5;124mw+)\u001b[39m\u001b[38;5;124m'\u001b[39m, res)\n\u001b[1;32m     48\u001b[0m     \u001b[38;5;28;01massert\u001b[39;00m match, \u001b[38;5;124m'\u001b[39m\u001b[38;5;124mNo match found!\u001b[39m\u001b[38;5;124m'\u001b[39m\n",
      "File \u001b[0;32m/usr/lib/python3.8/subprocess.py:415\u001b[0m, in \u001b[0;36mcheck_output\u001b[0;34m(timeout, *popenargs, **kwargs)\u001b[0m\n\u001b[1;32m    412\u001b[0m         empty \u001b[38;5;241m=\u001b[39m \u001b[38;5;124mb\u001b[39m\u001b[38;5;124m'\u001b[39m\u001b[38;5;124m'\u001b[39m\n\u001b[1;32m    413\u001b[0m     kwargs[\u001b[38;5;124m'\u001b[39m\u001b[38;5;124minput\u001b[39m\u001b[38;5;124m'\u001b[39m] \u001b[38;5;241m=\u001b[39m empty\n\u001b[0;32m--> 415\u001b[0m \u001b[38;5;28;01mreturn\u001b[39;00m \u001b[43mrun\u001b[49m\u001b[43m(\u001b[49m\u001b[38;5;241;43m*\u001b[39;49m\u001b[43mpopenargs\u001b[49m\u001b[43m,\u001b[49m\u001b[43m \u001b[49m\u001b[43mstdout\u001b[49m\u001b[38;5;241;43m=\u001b[39;49m\u001b[43mPIPE\u001b[49m\u001b[43m,\u001b[49m\u001b[43m \u001b[49m\u001b[43mtimeout\u001b[49m\u001b[38;5;241;43m=\u001b[39;49m\u001b[43mtimeout\u001b[49m\u001b[43m,\u001b[49m\u001b[43m \u001b[49m\u001b[43mcheck\u001b[49m\u001b[38;5;241;43m=\u001b[39;49m\u001b[38;5;28;43;01mTrue\u001b[39;49;00m\u001b[43m,\u001b[49m\n\u001b[1;32m    416\u001b[0m \u001b[43m           \u001b[49m\u001b[38;5;241;43m*\u001b[39;49m\u001b[38;5;241;43m*\u001b[39;49m\u001b[43mkwargs\u001b[49m\u001b[43m)\u001b[49m\u001b[38;5;241m.\u001b[39mstdout\n",
      "File \u001b[0;32m/usr/lib/python3.8/subprocess.py:495\u001b[0m, in \u001b[0;36mrun\u001b[0;34m(input, capture_output, timeout, check, *popenargs, **kwargs)\u001b[0m\n\u001b[1;32m    493\u001b[0m \u001b[38;5;28;01mwith\u001b[39;00m Popen(\u001b[38;5;241m*\u001b[39mpopenargs, \u001b[38;5;241m*\u001b[39m\u001b[38;5;241m*\u001b[39mkwargs) \u001b[38;5;28;01mas\u001b[39;00m process:\n\u001b[1;32m    494\u001b[0m     \u001b[38;5;28;01mtry\u001b[39;00m:\n\u001b[0;32m--> 495\u001b[0m         stdout, stderr \u001b[38;5;241m=\u001b[39m \u001b[43mprocess\u001b[49m\u001b[38;5;241;43m.\u001b[39;49m\u001b[43mcommunicate\u001b[49m\u001b[43m(\u001b[49m\u001b[38;5;28;43minput\u001b[39;49m\u001b[43m,\u001b[49m\u001b[43m \u001b[49m\u001b[43mtimeout\u001b[49m\u001b[38;5;241;43m=\u001b[39;49m\u001b[43mtimeout\u001b[49m\u001b[43m)\u001b[49m\n\u001b[1;32m    496\u001b[0m     \u001b[38;5;28;01mexcept\u001b[39;00m TimeoutExpired \u001b[38;5;28;01mas\u001b[39;00m exc:\n\u001b[1;32m    497\u001b[0m         process\u001b[38;5;241m.\u001b[39mkill()\n",
      "File \u001b[0;32m/usr/lib/python3.8/subprocess.py:1015\u001b[0m, in \u001b[0;36mPopen.communicate\u001b[0;34m(self, input, timeout)\u001b[0m\n\u001b[1;32m   1013\u001b[0m     \u001b[38;5;28mself\u001b[39m\u001b[38;5;241m.\u001b[39m_stdin_write(\u001b[38;5;28minput\u001b[39m)\n\u001b[1;32m   1014\u001b[0m \u001b[38;5;28;01melif\u001b[39;00m \u001b[38;5;28mself\u001b[39m\u001b[38;5;241m.\u001b[39mstdout:\n\u001b[0;32m-> 1015\u001b[0m     stdout \u001b[38;5;241m=\u001b[39m \u001b[38;5;28;43mself\u001b[39;49m\u001b[38;5;241;43m.\u001b[39;49m\u001b[43mstdout\u001b[49m\u001b[38;5;241;43m.\u001b[39;49m\u001b[43mread\u001b[49m\u001b[43m(\u001b[49m\u001b[43m)\u001b[49m\n\u001b[1;32m   1016\u001b[0m     \u001b[38;5;28mself\u001b[39m\u001b[38;5;241m.\u001b[39mstdout\u001b[38;5;241m.\u001b[39mclose()\n\u001b[1;32m   1017\u001b[0m \u001b[38;5;28;01melif\u001b[39;00m \u001b[38;5;28mself\u001b[39m\u001b[38;5;241m.\u001b[39mstderr:\n",
      "\u001b[0;31mKeyboardInterrupt\u001b[0m: "
     ]
    }
   ],
   "source": [
    "class_ = 'C'\n",
    "num_iters = 100\n",
    "\n",
    "runtime_mean, runtime_err = execute_class(class_, num_iters)\n",
    "\n",
    "print(f'runtime_mean: {runtime_mean:.6}')\n",
    "print(f'runtime_err : {runtime_err:.6}')\n",
    "\n",
    "# ours: 3.304523 ± 0.630665"
   ]
  },
  {
   "cell_type": "code",
   "execution_count": 10,
   "id": "dad20531-1a59-40d4-b55f-09ae6cd82a35",
   "metadata": {},
   "outputs": [
    {
     "name": "stdout",
     "output_type": "stream",
     "text": [
      "Class: B, Iterations: 50\n"
     ]
    },
    {
     "name": "stdout",
     "output_type": "stream",
     "text": [
      "  [001] Runtime: 3.298517 ± 0.000000 [sec] (3.298517)\n",
      "  [002] Runtime: 3.089596 ± 0.590916 [sec] (2.880676)\n",
      "  [003] Runtime: 3.125022 ± 0.435489 [sec] (3.195872)\n",
      "  [004] Runtime: 3.032199 ± 0.514090 [sec] (2.753733)\n",
      "  [005] Runtime: 3.110229 ± 0.565677 [sec] (3.422349)\n"
     ]
    },
    {
     "ename": "KeyboardInterrupt",
     "evalue": "",
     "output_type": "error",
     "traceback": [
      "\u001b[0;31m---------------------------------------------------------------------------\u001b[0m",
      "\u001b[0;31mKeyboardInterrupt\u001b[0m                         Traceback (most recent call last)",
      "Cell \u001b[0;32mIn[10], line 11\u001b[0m\n\u001b[1;32m      8\u001b[0m ref_mean \u001b[38;5;241m=\u001b[39m ref_mean_by_class[class_]\n\u001b[1;32m      9\u001b[0m ref_err \u001b[38;5;241m=\u001b[39m ref_err_by_class[class_]\n\u001b[0;32m---> 11\u001b[0m _ \u001b[38;5;241m=\u001b[39m \u001b[43mbenchmark_class\u001b[49m\u001b[43m(\u001b[49m\u001b[43mclass_\u001b[49m\u001b[43m,\u001b[49m\u001b[43m \u001b[49m\u001b[43mnum_iters\u001b[49m\u001b[43m,\u001b[49m\u001b[43m \u001b[49m\u001b[43mref_mean\u001b[49m\u001b[43m,\u001b[49m\u001b[43m \u001b[49m\u001b[43mref_err\u001b[49m\u001b[43m)\u001b[49m\n",
      "Cell \u001b[0;32mIn[1], line 19\u001b[0m, in \u001b[0;36mbenchmark_class\u001b[0;34m(class_, num_iters, ref_mean, ref_err)\u001b[0m\n\u001b[1;32m     18\u001b[0m \u001b[38;5;28;01mdef\u001b[39;00m \u001b[38;5;21mbenchmark_class\u001b[39m(class_, num_iters, ref_mean, ref_err):\n\u001b[0;32m---> 19\u001b[0m     runtime_mean, runtime_err \u001b[38;5;241m=\u001b[39m \u001b[43mexecute_class\u001b[49m\u001b[43m(\u001b[49m\u001b[43mclass_\u001b[49m\u001b[43m,\u001b[49m\u001b[43m \u001b[49m\u001b[43mnum_iters\u001b[49m\u001b[43m)\u001b[49m\n\u001b[1;32m     20\u001b[0m     percent_means, percent_err \u001b[38;5;241m=\u001b[39m compare_to_ref(runtime_mean, runtime_err, ref_mean, ref_err)\n\u001b[1;32m     22\u001b[0m     \u001b[38;5;28;01mreturn\u001b[39;00m percent_means, percent_err\n",
      "Cell \u001b[0;32mIn[1], line 45\u001b[0m, in \u001b[0;36mexecute_class\u001b[0;34m(class_, num_iters)\u001b[0m\n\u001b[1;32m     42\u001b[0m \u001b[38;5;28mprint\u001b[39m(\u001b[38;5;124mf\u001b[39m\u001b[38;5;124m'\u001b[39m\u001b[38;5;124mClass: \u001b[39m\u001b[38;5;132;01m{\u001b[39;00mclass_\u001b[38;5;132;01m}\u001b[39;00m\u001b[38;5;124m, Iterations: \u001b[39m\u001b[38;5;132;01m{\u001b[39;00mnum_iters\u001b[38;5;132;01m}\u001b[39;00m\u001b[38;5;124m'\u001b[39m)\n\u001b[1;32m     44\u001b[0m \u001b[38;5;28;01mfor\u001b[39;00m i \u001b[38;5;129;01min\u001b[39;00m \u001b[38;5;28mrange\u001b[39m(num_iters):\n\u001b[0;32m---> 45\u001b[0m     res \u001b[38;5;241m=\u001b[39m \u001b[43msubprocess\u001b[49m\u001b[38;5;241;43m.\u001b[39;49m\u001b[43mcheck_output\u001b[49m\u001b[43m(\u001b[49m\u001b[43mcmd\u001b[49m\u001b[38;5;241;43m.\u001b[39;49m\u001b[43msplit\u001b[49m\u001b[43m(\u001b[49m\u001b[38;5;124;43m'\u001b[39;49m\u001b[38;5;124;43m \u001b[39;49m\u001b[38;5;124;43m'\u001b[39;49m\u001b[43m)\u001b[49m\u001b[43m)\u001b[49m\u001b[38;5;241m.\u001b[39mdecode(\u001b[38;5;124m'\u001b[39m\u001b[38;5;124mutf-8\u001b[39m\u001b[38;5;124m'\u001b[39m)\n\u001b[1;32m     47\u001b[0m     match \u001b[38;5;241m=\u001b[39m re\u001b[38;5;241m.\u001b[39msearch(\u001b[38;5;124mr\u001b[39m\u001b[38;5;124m'\u001b[39m\u001b[38;5;124mVerification\u001b[39m\u001b[38;5;124m\\\u001b[39m\u001b[38;5;124ms+=\u001b[39m\u001b[38;5;124m\\\u001b[39m\u001b[38;5;124ms+(\u001b[39m\u001b[38;5;124m\\\u001b[39m\u001b[38;5;124mw+)\u001b[39m\u001b[38;5;124m'\u001b[39m, res)\n\u001b[1;32m     48\u001b[0m     \u001b[38;5;28;01massert\u001b[39;00m match, \u001b[38;5;124m'\u001b[39m\u001b[38;5;124mNo match found!\u001b[39m\u001b[38;5;124m'\u001b[39m\n",
      "File \u001b[0;32m/usr/lib/python3.8/subprocess.py:415\u001b[0m, in \u001b[0;36mcheck_output\u001b[0;34m(timeout, *popenargs, **kwargs)\u001b[0m\n\u001b[1;32m    412\u001b[0m         empty \u001b[38;5;241m=\u001b[39m \u001b[38;5;124mb\u001b[39m\u001b[38;5;124m'\u001b[39m\u001b[38;5;124m'\u001b[39m\n\u001b[1;32m    413\u001b[0m     kwargs[\u001b[38;5;124m'\u001b[39m\u001b[38;5;124minput\u001b[39m\u001b[38;5;124m'\u001b[39m] \u001b[38;5;241m=\u001b[39m empty\n\u001b[0;32m--> 415\u001b[0m \u001b[38;5;28;01mreturn\u001b[39;00m \u001b[43mrun\u001b[49m\u001b[43m(\u001b[49m\u001b[38;5;241;43m*\u001b[39;49m\u001b[43mpopenargs\u001b[49m\u001b[43m,\u001b[49m\u001b[43m \u001b[49m\u001b[43mstdout\u001b[49m\u001b[38;5;241;43m=\u001b[39;49m\u001b[43mPIPE\u001b[49m\u001b[43m,\u001b[49m\u001b[43m \u001b[49m\u001b[43mtimeout\u001b[49m\u001b[38;5;241;43m=\u001b[39;49m\u001b[43mtimeout\u001b[49m\u001b[43m,\u001b[49m\u001b[43m \u001b[49m\u001b[43mcheck\u001b[49m\u001b[38;5;241;43m=\u001b[39;49m\u001b[38;5;28;43;01mTrue\u001b[39;49;00m\u001b[43m,\u001b[49m\n\u001b[1;32m    416\u001b[0m \u001b[43m           \u001b[49m\u001b[38;5;241;43m*\u001b[39;49m\u001b[38;5;241;43m*\u001b[39;49m\u001b[43mkwargs\u001b[49m\u001b[43m)\u001b[49m\u001b[38;5;241m.\u001b[39mstdout\n",
      "File \u001b[0;32m/usr/lib/python3.8/subprocess.py:495\u001b[0m, in \u001b[0;36mrun\u001b[0;34m(input, capture_output, timeout, check, *popenargs, **kwargs)\u001b[0m\n\u001b[1;32m    493\u001b[0m \u001b[38;5;28;01mwith\u001b[39;00m Popen(\u001b[38;5;241m*\u001b[39mpopenargs, \u001b[38;5;241m*\u001b[39m\u001b[38;5;241m*\u001b[39mkwargs) \u001b[38;5;28;01mas\u001b[39;00m process:\n\u001b[1;32m    494\u001b[0m     \u001b[38;5;28;01mtry\u001b[39;00m:\n\u001b[0;32m--> 495\u001b[0m         stdout, stderr \u001b[38;5;241m=\u001b[39m \u001b[43mprocess\u001b[49m\u001b[38;5;241;43m.\u001b[39;49m\u001b[43mcommunicate\u001b[49m\u001b[43m(\u001b[49m\u001b[38;5;28;43minput\u001b[39;49m\u001b[43m,\u001b[49m\u001b[43m \u001b[49m\u001b[43mtimeout\u001b[49m\u001b[38;5;241;43m=\u001b[39;49m\u001b[43mtimeout\u001b[49m\u001b[43m)\u001b[49m\n\u001b[1;32m    496\u001b[0m     \u001b[38;5;28;01mexcept\u001b[39;00m TimeoutExpired \u001b[38;5;28;01mas\u001b[39;00m exc:\n\u001b[1;32m    497\u001b[0m         process\u001b[38;5;241m.\u001b[39mkill()\n",
      "File \u001b[0;32m/usr/lib/python3.8/subprocess.py:1015\u001b[0m, in \u001b[0;36mPopen.communicate\u001b[0;34m(self, input, timeout)\u001b[0m\n\u001b[1;32m   1013\u001b[0m     \u001b[38;5;28mself\u001b[39m\u001b[38;5;241m.\u001b[39m_stdin_write(\u001b[38;5;28minput\u001b[39m)\n\u001b[1;32m   1014\u001b[0m \u001b[38;5;28;01melif\u001b[39;00m \u001b[38;5;28mself\u001b[39m\u001b[38;5;241m.\u001b[39mstdout:\n\u001b[0;32m-> 1015\u001b[0m     stdout \u001b[38;5;241m=\u001b[39m \u001b[38;5;28;43mself\u001b[39;49m\u001b[38;5;241;43m.\u001b[39;49m\u001b[43mstdout\u001b[49m\u001b[38;5;241;43m.\u001b[39;49m\u001b[43mread\u001b[49m\u001b[43m(\u001b[49m\u001b[43m)\u001b[49m\n\u001b[1;32m   1016\u001b[0m     \u001b[38;5;28mself\u001b[39m\u001b[38;5;241m.\u001b[39mstdout\u001b[38;5;241m.\u001b[39mclose()\n\u001b[1;32m   1017\u001b[0m \u001b[38;5;28;01melif\u001b[39;00m \u001b[38;5;28mself\u001b[39m\u001b[38;5;241m.\u001b[39mstderr:\n",
      "\u001b[0;31mKeyboardInterrupt\u001b[0m: "
     ]
    }
   ],
   "source": [
    "# Iterations:        1000           1000           200            100            50              2\n",
    "ref_mean_by_class = {'S': 0.000000, 'W': 0.000000, 'A': 0.000000, 'B': 2.913119, 'C': 0.000000, 'D': 0.000000}\n",
    "ref_err_by_class  = {'S': 0.000000, 'W': 0.000000, 'A': 0.000000, 'B': 0.629813, 'C': 0.000000, 'D': 0.000000}\n",
    "\n",
    "class_ = 'B'\n",
    "num_iters = 50\n",
    "\n",
    "ref_mean = ref_mean_by_class[class_]\n",
    "ref_err = ref_err_by_class[class_]\n",
    "\n",
    "_ = benchmark_class(class_, num_iters, ref_mean, ref_err)"
   ]
  }
 ],
 "metadata": {
  "kernelspec": {
   "display_name": "Python 3",
   "language": "python",
   "name": "python3"
  },
  "language_info": {
   "codemirror_mode": {
    "name": "ipython",
    "version": 3
   },
   "file_extension": ".py",
   "mimetype": "text/x-python",
   "name": "python",
   "nbconvert_exporter": "python",
   "pygments_lexer": "ipython3",
   "version": "3.9.18"
  }
 },
 "nbformat": 4,
 "nbformat_minor": 5
}
